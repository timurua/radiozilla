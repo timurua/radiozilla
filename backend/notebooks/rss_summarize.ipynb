{
 "cells": [
  {
   "cell_type": "code",
   "execution_count": 12,
   "id": "662ff3cf-60e3-48dd-9527-3b96b797ae63",
   "metadata": {},
   "outputs": [
    {
     "name": "stdout",
     "output_type": "stream",
     "text": [
      "Requirement already satisfied: beautifulsoup4 in /Library/Frameworks/Python.framework/Versions/3.11/lib/python3.11/site-packages (4.12.3)\n",
      "Requirement already satisfied: requests in /Library/Frameworks/Python.framework/Versions/3.11/lib/python3.11/site-packages (2.32.3)\n",
      "Requirement already satisfied: pandas in /Library/Frameworks/Python.framework/Versions/3.11/lib/python3.11/site-packages (2.2.3)\n",
      "Requirement already satisfied: lxml in /Library/Frameworks/Python.framework/Versions/3.11/lib/python3.11/site-packages (5.3.0)\n",
      "Requirement already satisfied: soupsieve>1.2 in /Library/Frameworks/Python.framework/Versions/3.11/lib/python3.11/site-packages (from beautifulsoup4) (2.6)\n",
      "Requirement already satisfied: charset-normalizer<4,>=2 in /Library/Frameworks/Python.framework/Versions/3.11/lib/python3.11/site-packages (from requests) (3.4.0)\n",
      "Requirement already satisfied: idna<4,>=2.5 in /Library/Frameworks/Python.framework/Versions/3.11/lib/python3.11/site-packages (from requests) (3.10)\n",
      "Requirement already satisfied: urllib3<3,>=1.21.1 in /Library/Frameworks/Python.framework/Versions/3.11/lib/python3.11/site-packages (from requests) (2.2.3)\n",
      "Requirement already satisfied: certifi>=2017.4.17 in /Library/Frameworks/Python.framework/Versions/3.11/lib/python3.11/site-packages (from requests) (2024.8.30)\n",
      "Requirement already satisfied: numpy>=1.23.2 in /Library/Frameworks/Python.framework/Versions/3.11/lib/python3.11/site-packages (from pandas) (1.26.4)\n",
      "Requirement already satisfied: python-dateutil>=2.8.2 in /Library/Frameworks/Python.framework/Versions/3.11/lib/python3.11/site-packages (from pandas) (2.8.2)\n",
      "Requirement already satisfied: pytz>=2020.1 in /Library/Frameworks/Python.framework/Versions/3.11/lib/python3.11/site-packages (from pandas) (2024.2)\n",
      "Requirement already satisfied: tzdata>=2022.7 in /Library/Frameworks/Python.framework/Versions/3.11/lib/python3.11/site-packages (from pandas) (2024.2)\n",
      "Requirement already satisfied: six>=1.5 in /Library/Frameworks/Python.framework/Versions/3.11/lib/python3.11/site-packages (from python-dateutil>=2.8.2->pandas) (1.16.0)\n",
      "Requirement already satisfied: lxml in /Library/Frameworks/Python.framework/Versions/3.11/lib/python3.11/site-packages (5.3.0)\n"
     ]
    }
   ],
   "source": [
    "!pip3 install beautifulsoup4 requests pandas lxml\n",
    "!pip3 install feedparser\n"
   ]
  },
  {
   "cell_type": "code",
   "execution_count": null,
   "id": "7c4daabe-8ff5-4573-9f22-b902d5340576",
   "metadata": {},
   "outputs": [],
   "source": [
    "# Install necessary libraries if needed\n",
    "# %pip install beautifulsoup4 requests pandas\n",
    "\n",
    "from bs4 import BeautifulSoup\n",
    "import requests\n",
    "import pandas as pd\n",
    "from datetime import datetime, timedelta\n",
    "import feedparser\n",
    "\n",
    "# Step 1: Fetch the RSS Feed and Parse with BeautifulSoup\n",
    "feed_url = \"https://www.nasa.gov/news-release/feed/\"  # Replace with your RSS feed URL\n",
    "feed = feedparser.parse(feed_url)\n",
    "\n",
    "# Step 2: Extract Feed Entries and Process Data\n",
    "data = []\n",
    "for entry in feed.entries:\n",
    "    # Parse date and normalize it\n",
    "    published_date = entry.published_parsed\n",
    "    title = entry.title if entry.title else \"\"\n",
    "    description = entry.description if entry.description else \"\"\n",
    "    link = entry.link if entry.link else \"\"\n",
    "    \n",
    "    # Append to data list\n",
    "    data.append({\"date\": published_date, \"title\": title, \"description\": description, \"link\": link})\n",
    "\n",
    "# Create DataFrame\n",
    "df = pd.DataFrame(data)\n",
    "\n",
    "# Step 3: Group by Week\n",
    "# Convert date to the start of the week (Monday)\n",
    "df['week_start'] = df['date'].apply(lambda x: x - timedelta(days=x.weekday()))\n",
    "\n",
    "# Group by 'week_start' and concatenate all titles and descriptions for each week\n",
    "weekly_data = df.groupby('week_start').apply(\n",
    "    lambda x: ' '.join(x['title'] + ' ' + x['description'])\n",
    ").reset_index(name='weekly_text')\n",
    "\n",
    "print(f\"{weekly_data}\")\n",
    "\n",
    "# Display the result\n",
    "import ace_tools as tools; tools.display_dataframe_to_user(name=\"Weekly RSS Feed Text\", dataframe=weekly_data)"
   ]
  },
  {
   "cell_type": "code",
   "execution_count": null,
   "id": "4acf440f-cfbc-446b-a08e-d1d5c02f6ddc",
   "metadata": {},
   "outputs": [],
   "source": []
  }
 ],
 "metadata": {
  "kernelspec": {
   "display_name": "Python 3 (ipykernel)",
   "language": "python",
   "name": "python3"
  },
  "language_info": {
   "codemirror_mode": {
    "name": "ipython",
    "version": 3
   },
   "file_extension": ".py",
   "mimetype": "text/x-python",
   "name": "python",
   "nbconvert_exporter": "python",
   "pygments_lexer": "ipython3",
   "version": "3.12.7"
  }
 },
 "nbformat": 4,
 "nbformat_minor": 5
}
