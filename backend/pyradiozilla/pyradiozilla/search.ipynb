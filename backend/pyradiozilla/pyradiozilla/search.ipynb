{
 "cells": [
  {
   "cell_type": "code",
   "execution_count": null,
   "metadata": {},
   "outputs": [],
   "source": [
    "!pip install faiss-cpu numpy sentence-transformers"
   ]
  },
  {
   "cell_type": "markdown",
   "metadata": {},
   "source": [
    "# Document Corpus"
   ]
  },
  {
   "cell_type": "code",
   "execution_count": null,
   "metadata": {},
   "outputs": [],
   "source": [
    "# Corpus of 100 sentences\n",
    "documents = [\n",
    "    \"The quick brown fox jumps over the lazy dog.\",\n",
    "    \"Python is a versatile programming language used for web development, data analysis, and more.\",\n",
    "    \"Artificial intelligence and machine learning are rapidly advancing fields.\",\n",
    "    \"She enjoys painting landscapes in her free time.\",\n",
    "    \"The capital city of France is Paris, known for its art and culture.\",\n",
    "    \"Global warming is a pressing issue affecting the entire planet.\",\n",
    "    \"Mount Everest is the highest mountain above sea level.\",\n",
    "    \"The human brain is an incredibly complex organ.\",\n",
    "    \"Renewable energy sources are essential for a sustainable future.\",\n",
    "    \"He plays the guitar in a local band.\",\n",
    "    \"Space exploration has led to many technological advancements.\",\n",
    "    \"Cooking can be both an art and a science.\",\n",
    "    \"The Great Wall of China is a remarkable feat of engineering.\",\n",
    "    \"Time management is crucial for productivity.\",\n",
    "    \"She read a fascinating book about quantum physics.\",\n",
    "    \"Exercise contributes to overall health and well-being.\",\n",
    "    \"Languages evolve over time through usage and cultural influences.\",\n",
    "    \"The internet has transformed how we communicate and access information.\",\n",
    "    \"Biodiversity is vital for ecological balance.\",\n",
    "    \"He is studying economics at the university.\",\n",
    "    \"The Mona Lisa is one of the most famous paintings in the world.\",\n",
    "    \"Advancements in medicine have increased human lifespan.\",\n",
    "    \"Traveling exposes individuals to new cultures and ideas.\",\n",
    "    \"She adopted a rescue dog from the animal shelter.\",\n",
    "    \"Technology is changing the landscape of education.\",\n",
    "    \"Climate change impacts weather patterns globally.\",\n",
    "    \"Music can evoke powerful emotions.\",\n",
    "    \"They are launching a startup in the tech industry.\",\n",
    "    \"Recycling helps reduce environmental waste.\",\n",
    "    \"Artificial satellites orbit the Earth for communication and observation.\",\n",
    "    \"History provides insights into past civilizations.\",\n",
    "    \"Mathematics is fundamental to various scientific disciplines.\",\n",
    "    \"He enjoys playing chess with his grandfather.\",\n",
    "    \"Nutrition plays a key role in maintaining health.\",\n",
    "    \"The solar system consists of eight planets orbiting the sun.\",\n",
    "    \"Artistic expression varies greatly across different cultures.\",\n",
    "    \"She is learning to code in JavaScript.\",\n",
    "    \"Economic policies affect national and global markets.\",\n",
    "    \"Photography captures moments in time.\",\n",
    "    \"Renewable resources are replenished naturally.\",\n",
    "    \"The study of genetics has led to breakthroughs in medicine.\",\n",
    "    \"He ran a marathon in under four hours.\",\n",
    "    \"Ocean currents influence climate and weather patterns.\",\n",
    "    \"They visited the museum to see the new exhibit.\",\n",
    "    \"Ethical considerations are important in scientific research.\",\n",
    "    \"Globalization has connected economies worldwide.\",\n",
    "    \"He writes poetry inspired by nature.\",\n",
    "    \"The circulatory system transports blood throughout the body.\",\n",
    "    \"She practices yoga to improve flexibility and reduce stress.\",\n",
    "    \"Astronomy is the study of celestial objects.\",\n",
    "    \"They are advocating for social justice reforms.\",\n",
    "    \"Computer algorithms can solve complex problems efficiently.\",\n",
    "    \"She volunteers at a community garden on weekends.\",\n",
    "    \"Physics explains the fundamental laws of the universe.\",\n",
    "    \"He enjoys hiking in national parks.\",\n",
    "    \"Cultural diversity enriches societies.\",\n",
    "    \"Sustainable agriculture supports environmental health.\",\n",
    "    \"They attended a workshop on renewable energy.\",\n",
    "    \"He is learning to play the piano.\",\n",
    "    \"Digital marketing is essential for modern businesses.\",\n",
    "    \"They are researching the effects of pollution on marine life.\",\n",
    "    \"She is an avid reader of mystery novels.\",\n",
    "    \"Urban planning involves designing city layouts.\",\n",
    "    \"Cybersecurity is crucial in protecting data.\",\n",
    "    \"He collects vintage vinyl records.\",\n",
    "    \"They are building a robot for the competition.\",\n",
    "    \"Psychology studies human behavior and mind.\",\n",
    "    \"She enjoys baking pastries and cakes.\",\n",
    "    \"Environmental conservation protects natural habitats.\",\n",
    "    \"He is training for a triathlon.\",\n",
    "    \"They are developing a new mobile application.\",\n",
    "    \"Architecture combines art and engineering.\",\n",
    "    \"She is passionate about animal welfare.\",\n",
    "    \"Data science involves extracting insights from data.\",\n",
    "    \"He plays soccer on the weekends.\",\n",
    "    \"They are organizing a charity fundraiser.\",\n",
    "    \"Literature reflects the human experience.\",\n",
    "    \"She is learning about ancient civilizations.\",\n",
    "    \"Marketing strategies vary across industries.\",\n",
    "    \"He enjoys photographing wildlife.\",\n",
    "    \"They are studying the effects of climate change on agriculture.\",\n",
    "    \"She practices meditation daily.\",\n",
    "    \"Blockchain technology has potential in various sectors.\",\n",
    "    \"He is a fan of classical music.\",\n",
    "    \"They are exploring virtual reality applications.\",\n",
    "    \"Culinary arts involve creativity and skill.\",\n",
    "    \"She is writing a novel set in the future.\",\n",
    "    \"Renewable energy includes solar and wind power.\",\n",
    "    \"He participates in community theater.\",\n",
    "    \"They are advocates for renewable resources.\",\n",
    "    \"She studies the impact of social media on society.\",\n",
    "    \"Genetics plays a role in inherited traits.\",\n",
    "    \"He enjoys woodworking as a hobby.\",\n",
    "    \"They are planning a trip around the world.\",\n",
    "    \"She is interested in marine biology.\",\n",
    "    \"Artificial intelligence can automate tasks.\",\n",
    "    \"He collects rare coins from different eras.\",\n",
    "    \"They are designing a sustainable home.\",\n",
    "    \"She is learning about the human immune system.\",\n",
    "    \"Cloud computing provides scalable resources.\",\n",
    "    \"He is restoring a classic car.\",\n",
    "    \"They are attending a seminar on financial planning.\",\n",
    "    \"She enjoys painting abstract art.\",\n",
    "    \"Quantum computing could revolutionize technology.\",\n",
    "    \"He practices calligraphy in his free time.\",\n",
    "    \"They are studying renewable energy policies.\",\n",
    "    \"She is an advocate for education reform.\",\n",
    "    \"He enjoys exploring ancient ruins.\",\n",
    "    \"They are developing software for healthcare.\",\n",
    "    \"She is researching the history of art movements.\",\n",
    "    \"He plays in a jazz band.\",\n",
    "    \"They are investing in green technologies.\",\n",
    "    \"She teaches a course on modern literature.\",\n",
    "    \"He is learning about space exploration.\",\n",
    "    \"They are involved in community outreach programs.\",\n",
    "]\n"
   ]
  },
  {
   "cell_type": "markdown",
   "metadata": {},
   "source": [
    "# Indexing"
   ]
  },
  {
   "cell_type": "code",
   "execution_count": 15,
   "metadata": {},
   "outputs": [
    {
     "name": "stdout",
     "output_type": "stream",
     "text": [
      "Generating embeddings for the documents...\n"
     ]
    },
    {
     "name": "stderr",
     "output_type": "stream",
     "text": [
      "Batches: 100%|██████████| 4/4 [00:00<00:00,  5.79it/s]"
     ]
    },
    {
     "name": "stdout",
     "output_type": "stream",
     "text": [
      "Indexing the documents...\n",
      "Complete...\n"
     ]
    },
    {
     "name": "stderr",
     "output_type": "stream",
     "text": [
      "\n"
     ]
    }
   ],
   "source": [
    "import numpy as np\n",
    "from sentence_transformers import SentenceTransformer\n",
    "import faiss\n",
    "\n",
    "# Step 2: Embedding Generation\n",
    "print(\"Generating embeddings for the documents...\")\n",
    "embedding_model = SentenceTransformer('all-MiniLM-L6-v2', device='cpu')\n",
    "doc_embeddings = embedding_model.encode(documents, show_progress_bar=True)\n",
    "doc_embeddings = np.array(doc_embeddings).astype('float32')\n",
    "\n",
    "# Step 3: Indexing with FAISS\n",
    "print(\"Indexing the documents...\")\n",
    "dimension = doc_embeddings.shape[1]\n",
    "embedding_index = faiss.IndexFlatL2(dimension)\n",
    "faiss.normalize_L2(doc_embeddings)\n",
    "embedding_index.add(doc_embeddings)\n",
    "print(\"Complete...\")\n"
   ]
  },
  {
   "cell_type": "markdown",
   "metadata": {},
   "source": [
    "# Searching"
   ]
  },
  {
   "cell_type": "code",
   "execution_count": 16,
   "metadata": {},
   "outputs": [
    {
     "name": "stdout",
     "output_type": "stream",
     "text": [
      "Enter a search query to find the most similar documents.\n",
      "Finding the most similar documents...\n",
      "Filtering results...\n",
      "Document ID: 0, Similarity Score: 0.5827232599258423\n",
      "Content: Artificial intelligence can automate tasks.\n",
      "\n",
      "Document ID: 1, Similarity Score: 0.8918582201004028\n",
      "Content: Artificial intelligence and machine learning are rapidly advancing fields.\n",
      "\n",
      "Document ID: 2, Similarity Score: 1.123034954071045\n",
      "Content: Computer algorithms can solve complex problems efficiently.\n",
      "\n",
      "Document ID: 3, Similarity Score: 1.317882776260376\n",
      "Content: They are building a robot for the competition.\n",
      "\n",
      "Document ID: 4, Similarity Score: 1.3612381219863892\n",
      "Content: Artificial satellites orbit the Earth for communication and observation.\n",
      "\n"
     ]
    }
   ],
   "source": [
    "# Step 4: Query Processing\n",
    "print(\"Enter a search query to find the most similar documents.\")\n",
    "user_query = \"Artificial intelligence\"\n",
    "query_embedding = embedding_model.encode([user_query])[0]\n",
    "query_embedding = np.array([query_embedding]).astype('float32')\n",
    "faiss.normalize_L2(query_embedding)\n",
    "\n",
    "# Step 5: Similarity Computation\n",
    "print(f\"Finding the most similar documents...\")\n",
    "k = 5  # Number of top results to retrieve\n",
    "distances, indices = embedding_index.search(query_embedding, k)\n",
    "\n",
    "# Step 6: Applying Filters (optional)\n",
    "print(\"Filtering results...\")\n",
    "results = []\n",
    "for i, idx in enumerate(indices[0]):\n",
    "    results.append({\n",
    "        'id': i,\n",
    "        'text': documents[idx],\n",
    "        'distance': distances[0][i]\n",
    "    })\n",
    "\n",
    "# Display results\n",
    "for result in results:\n",
    "    print(f\"Document ID: {result['id']}, Similarity Score: {result['distance']}\")\n",
    "    print(f\"Content: {result['text']}\\n\")\n"
   ]
  },
  {
   "cell_type": "code",
   "execution_count": null,
   "metadata": {},
   "outputs": [],
   "source": []
  }
 ],
 "metadata": {
  "kernelspec": {
   "display_name": ".venv",
   "language": "python",
   "name": "python3"
  },
  "language_info": {
   "codemirror_mode": {
    "name": "ipython",
    "version": 3
   },
   "file_extension": ".py",
   "mimetype": "text/x-python",
   "name": "python",
   "nbconvert_exporter": "python",
   "pygments_lexer": "ipython3",
   "version": "3.12.3"
  }
 },
 "nbformat": 4,
 "nbformat_minor": 2
}
