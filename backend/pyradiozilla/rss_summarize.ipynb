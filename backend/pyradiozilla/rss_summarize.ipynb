{
 "cells": [
  {
   "cell_type": "code",
   "execution_count": 2,
   "id": "662ff3cf-60e3-48dd-9527-3b96b797ae63",
   "metadata": {},
   "outputs": [
    {
     "name": "stdout",
     "output_type": "stream",
     "text": [
      "Requirement already satisfied: beautifulsoup4 in ./lib/python3.12/site-packages (4.12.3)\n",
      "Requirement already satisfied: requests in ./lib/python3.12/site-packages (2.32.3)\n",
      "Requirement already satisfied: pandas in ./lib/python3.12/site-packages (2.2.3)\n",
      "Collecting lxml\n",
      "  Downloading lxml-5.3.0-cp312-cp312-manylinux_2_28_x86_64.whl.metadata (3.8 kB)\n",
      "Requirement already satisfied: soupsieve>1.2 in ./lib/python3.12/site-packages (from beautifulsoup4) (2.6)\n",
      "Requirement already satisfied: charset-normalizer<4,>=2 in ./lib/python3.12/site-packages (from requests) (3.3.2)\n",
      "Requirement already satisfied: idna<4,>=2.5 in ./lib/python3.12/site-packages (from requests) (3.10)\n",
      "Requirement already satisfied: urllib3<3,>=1.21.1 in ./lib/python3.12/site-packages (from requests) (2.2.3)\n",
      "Requirement already satisfied: certifi>=2017.4.17 in ./lib/python3.12/site-packages (from requests) (2024.8.30)\n",
      "Requirement already satisfied: numpy>=1.26.0 in ./lib/python3.12/site-packages (from pandas) (2.0.2)\n",
      "Requirement already satisfied: python-dateutil>=2.8.2 in ./lib/python3.12/site-packages (from pandas) (2.9.0.post0)\n",
      "Requirement already satisfied: pytz>=2020.1 in ./lib/python3.12/site-packages (from pandas) (2024.2)\n",
      "Requirement already satisfied: tzdata>=2022.7 in ./lib/python3.12/site-packages (from pandas) (2024.2)\n",
      "Requirement already satisfied: six>=1.5 in ./lib/python3.12/site-packages (from python-dateutil>=2.8.2->pandas) (1.16.0)\n",
      "Downloading lxml-5.3.0-cp312-cp312-manylinux_2_28_x86_64.whl (4.9 MB)\n",
      "\u001b[2K   \u001b[38;2;114;156;31m━━━━━━━━━━━━━━━━━━━━━━━━━━━━━━━━━━━━━━━━\u001b[0m \u001b[32m4.9/4.9 MB\u001b[0m \u001b[31m19.0 MB/s\u001b[0m eta \u001b[36m0:00:00\u001b[0mm eta \u001b[36m0:00:01\u001b[0m[36m0:00:01\u001b[0m\n",
      "\u001b[?25hInstalling collected packages: lxml\n",
      "Successfully installed lxml-5.3.0\n",
      "Requirement already satisfied: feedparser in ./lib/python3.12/site-packages (6.0.11)\n",
      "Requirement already satisfied: sgmllib3k in ./lib/python3.12/site-packages (from feedparser) (1.0.0)\n"
     ]
    }
   ],
   "source": [
    "!pip3 install beautifulsoup4 requests pandas lxml\n",
    "!pip3 install feedparser"
   ]
  },
  {
   "cell_type": "code",
   "execution_count": 1,
   "id": "36fd319b",
   "metadata": {},
   "outputs": [],
   "source": [
    "from datetime import datetime, timedelta\n",
    "\n",
    "def get_week_start(date_input: datetime) -> datetime:\n",
    "    days_since_monday = date_input.weekday()\n",
    "    monday = date_input - timedelta(days=days_since_monday)\n",
    "    monday_midnight = monday.replace(hour=0, minute=0, second=0, microsecond=0)\n",
    "    return monday_midnight\n"
   ]
  },
  {
   "cell_type": "code",
   "execution_count": 2,
   "id": "7c4daabe-8ff5-4573-9f22-b902d5340576",
   "metadata": {},
   "outputs": [
    {
     "data": {
      "text/plain": [
       "{datetime.datetime(2024, 10, 28, 0, 0): [{'date': datetime.datetime(2024, 11, 1, 20, 10, 5),\n",
       "   'week_start_date': datetime.datetime(2024, 10, 28, 0, 0),\n",
       "   'title': 'NASA Awards Contract for Refuse and Recycling Services',\n",
       "   'description': 'NASA has awarded the Custodial and Refuse/Recycle Services contract to Ahtna Integrated Services LLC \\xa0of Anchorage, Alaska, to provide trash, waste, and recycling services at the agency’s Ames Research Center in California’s Silicon Valley. This is a hybrid contract that includes a firm-fixed-price and an indefinite-delivery/indefinite-quantity portion.\\xa0The period of performance begins Friday, Nov. 1, with [&#8230;]',\n",
       "   'link': 'https://www.nasa.gov/general/nasa-awards-contract-for-refuse-and-recycling-services/'},\n",
       "  {'date': datetime.datetime(2024, 11, 1, 19, 35, 29),\n",
       "   'week_start_date': datetime.datetime(2024, 10, 28, 0, 0),\n",
       "   'title': 'NASA’s New Edition of Graphic Novel Features Europa Clipper',\n",
       "   'description': 'NASA has released a new edition of Issue 4 of the Astrobiology Graphic History series. The issue now includes NASA’s Europa Clipper mission.',\n",
       "   'link': 'https://science.nasa.gov/science-research/planetary-science/astrobiology/nasas-new-edition-of-graphic-novel-features-europa-clipper/'},\n",
       "  {'date': datetime.datetime(2024, 11, 1, 18, 53, 22),\n",
       "   'week_start_date': datetime.datetime(2024, 10, 28, 0, 0),\n",
       "   'title': 'From Mars Rovers to Factory Assembly Lines',\n",
       "   'description': 'NASA-funded AI technology enabling autonomous rovers and drones now keeps an eye on conveyor belts',\n",
       "   'link': 'https://www.nasa.gov/technology/tech-transfer-spinoffs/from-mars-rovers-to-factory-assembly-lines/'},\n",
       "  {'date': datetime.datetime(2024, 11, 1, 17, 41, 34),\n",
       "   'week_start_date': datetime.datetime(2024, 10, 28, 0, 0),\n",
       "   'title': '30 Years On, NASA’s Wind Is a Windfall for Studying our Neighborhood in Space',\n",
       "   'description': 'Picture it: 1994. The first World Wide Web conference took place in Geneva, the first Chunnel train traveled under the English Channel, and just three years after the end of the Cold War, the first Russian instrument on a U.S. spacecraft launched into deep space from Cape Canaveral. The mission to study the solar wind, […]',\n",
       "   'link': 'https://science.nasa.gov/science-research/heliophysics/30-years-on-nasas-wind-is-a-windfall-for-studying-our-neighborhood-in-space/'},\n",
       "  {'date': datetime.datetime(2024, 11, 1, 17, 19, 10),\n",
       "   'week_start_date': datetime.datetime(2024, 10, 28, 0, 0),\n",
       "   'title': 'Station Nation: Meet Carlos Fontanot, the Imagery Manager Leaving a Legacy of Visual Storytelling',\n",
       "   'description': 'Born and raised in Mexico City, Carlos Fontanot has dedicated 34 years to NASA. He supports the International Space Station Mission Integration and Operations Office, ensuring that high-quality imagery enhances mission objectives and operations.\\xa0\\xa0 Fontanot is known for conceiving and leading the High Definition Earth Viewing (HDEV) project, which has brought stunning live visuals of [&#8230;]',\n",
       "   'link': 'https://www.nasa.gov/centers-and-facilities/johnson/station-nation-meet-carlos-fontanot-the-imagery-manager-leaving-a-legacy-of-visual-storytelling/'},\n",
       "  {'date': datetime.datetime(2024, 11, 1, 16, 16, 55),\n",
       "   'week_start_date': datetime.datetime(2024, 10, 28, 0, 0),\n",
       "   'title': 'NASA Ames Recognizes Representative Eshoo for Her 32 Years of Service',\n",
       "   'description': 'On Oct. 29, NASA’s Ames Research Center in California’s Silicon Valley hosted a gathering to recognize Representative Anna G. Eshoo for her 32 years of distinguished public service and her enduring support for the agency. During the event, Dr. Eugene Tu, center director at Ames, presented the Congresswoman with the Pioneer plaque, a replica of [&#8230;]',\n",
       "   'link': 'https://www.nasa.gov/image-article/nasa-ames-recognizes-representative-eshoo-for-her-32-years-of-service/'},\n",
       "  {'date': datetime.datetime(2024, 11, 1, 16, 4, 17),\n",
       "   'week_start_date': datetime.datetime(2024, 10, 28, 0, 0),\n",
       "   'title': 'I am Artemis: Lane Polak',\n",
       "   'description': 'Growing up, Lane Polak didn’t have much interest in space. Instead, he was busy writing stories, doodling, or riding his skateboard. He later dreamed of becoming an author but also considered stepping into the arena as an American Gladiator. After earning a degree in communications with a minor in English from the University of Alabama [&#8230;]',\n",
       "   'link': 'https://www.nasa.gov/image-article/i-am-artemis-lane-polak/'},\n",
       "  {'date': datetime.datetime(2024, 11, 1, 16, 0, 12),\n",
       "   'week_start_date': datetime.datetime(2024, 10, 28, 0, 0),\n",
       "   'title': 'What’s Up: November 2024 Skywatching Tips from NASA',\n",
       "   'description': 'Planets visible in November: Saturn shines in the south most of the night, Jupiter rises in the early evening, while Mars is visible in the early morning sky.',\n",
       "   'link': 'https://science.nasa.gov/solar-system/skywatching/whats-up-november-2024-skywatching-tips-from-nasa/'},\n",
       "  {'date': datetime.datetime(2024, 11, 1, 15, 4, 27),\n",
       "   'week_start_date': datetime.datetime(2024, 10, 28, 0, 0),\n",
       "   'title': 'NASA’s SpaceX Crew-8 Astronauts to Discuss Science Mission',\n",
       "   'description': 'After spending 235 days in space, NASA’s SpaceX Crew-8 astronauts will discuss their science mission aboard the International Space Station during a post-flight news conference at 3:15 p.m. EST Friday, Nov. 8, from the agency’s Johnson Space Center in Houston. NASA astronauts Michael Barratt, Matthew Dominick, and Jeanette Epps will answer questions about their mission. [&#8230;]',\n",
       "   'link': 'https://www.nasa.gov/news-release/nasas-spacex-crew-8-astronauts-to-discuss-science-mission/'},\n",
       "  {'date': datetime.datetime(2024, 11, 1, 14, 0, 16),\n",
       "   'week_start_date': datetime.datetime(2024, 10, 28, 0, 0),\n",
       "   'title': 'NASA’s Hubble, Webb Probe Surprisingly Smooth Disk Around Vega',\n",
       "   'description': 'In the 1997 movie “Contact,” adapted from Carl Sagan’s 1985 novel, the lead character scientist Ellie Arroway (played by actor Jodi Foster) takes a space-alien-built wormhole ride to the star Vega. She emerges inside a snowstorm of debris encircling the star — but no obvious planets are visible. It looks like the filmmakers got it […]',\n",
       "   'link': 'https://science.nasa.gov/missions/hubble/nasas-hubble-webb-probe-surprisingly-smooth-disk-around-vega/'}]}"
      ]
     },
     "metadata": {},
     "output_type": "display_data"
    }
   ],
   "source": [
    "# Install necessary libraries if needed\n",
    "# %pip install beautifulsoup4 requests pandas\n",
    "\n",
    "from datetime import datetime\n",
    "import feedparser\n",
    "from IPython.display import display\n",
    "\n",
    "# Step 1: Fetch the RSS Feed and Parse with BeautifulSoup\n",
    "feed_url = \"https://www.nasa.gov/news-release/feed/\"  # Replace with your RSS feed URL\n",
    "feed = feedparser.parse(feed_url)\n",
    "\n",
    "# Step 2: Extract Feed Entries and Process Data\n",
    "weekly_data = {}\n",
    "for entry in feed.entries:\n",
    "    # Parse date and normalize it\n",
    "    published_date = datetime(*entry.published_parsed[:6])\n",
    "    title = entry.title if entry.title else \"\"\n",
    "    description = entry.description if entry.description else \"\"\n",
    "    link = entry.link if entry.link else \"\"\n",
    "    \n",
    "    # Append to data list\n",
    "    week_start_date = get_week_start(published_date)\n",
    "    if week_start_date not in weekly_data:\n",
    "        weekly_data[week_start_date] = []\n",
    "    weekly_data[week_start_date].append({\"date\": published_date, \"week_start_date\": week_start_date, \"title\": title, \"description\": description, \"link\": link})\n",
    "    \n",
    "\n",
    "display(weekly_data)\n"
   ]
  },
  {
   "cell_type": "code",
   "execution_count": 5,
   "id": "4acf440f-cfbc-446b-a08e-d1d5c02f6ddc",
   "metadata": {},
   "outputs": [
    {
     "name": "stdout",
     "output_type": "stream",
     "text": [
      "Climate change is having a devastating impact on polar bears. \n",
      "\n",
      "**Here's a summary:**\n",
      "\n",
      "* **Shrinking sea ice:** Polar bears rely on sea ice to hunt seals, their primary food source.  As global temperatures rise, Arctic sea ice is melting at an alarming rate, reducing the area where bears can hunt and forcing them to spend more time on land, which offers limited food options.\n",
      "* **Reduced hunting success:** With less ice, polar bears face longer journeys between hunting grounds and have to swim greater distances, expending more energy with lower chances of successful hunts. This leads to malnutrition and starvation.\n",
      "* **Habitat loss and displacement:** Melting sea ice forces bears into smaller, more crowded areas, leading to increased competition for resources and potential conflicts. \n",
      "* **Impacts on reproduction:**  Malnourished mothers are less likely to successfully reproduce, and their cubs have lower survival rates.\n",
      "\n",
      "**Overall, climate change is putting polar bears at high risk of extinction.** They are struggling to adapt to the rapidly changing Arctic environment, facing threats to their food sources, habitat, and ability to survive and reproduce.\n",
      "\n",
      "\n",
      "It's important to note that these impacts are already being felt and will continue to worsen unless significant action is taken to address climate change.\n"
     ]
    }
   ],
   "source": [
    "import requests\n",
    "import json\n",
    "\n",
    "class OllamaClient:\n",
    "    def __init__(self, host=\"localhost\", port=11434):\n",
    "        self.base_url = f\"http://{host}:{port}/api\"\n",
    "        self.headers = {\n",
    "            \"Content-Type\": \"application/json\"\n",
    "        }\n",
    "\n",
    "    def generate(self, model, prompt):\n",
    "        url = f\"{self.base_url}/generate\"\n",
    "        data = {\n",
    "            \"model\": model,\n",
    "            \"prompt\": prompt\n",
    "        }\n",
    "\n",
    "        try:\n",
    "            response = requests.post(url, json=data, headers=self.headers, stream=True)\n",
    "            response.raise_for_status()\n",
    "        except requests.exceptions.RequestException as e:\n",
    "            print(f\"Error connecting to Ollama API: {e}\")\n",
    "            return None\n",
    "\n",
    "        output = ''\n",
    "        for line in response.iter_lines():\n",
    "            if line:\n",
    "                try:\n",
    "                    line_json = json.loads(line.decode('utf-8'))\n",
    "                    output += line_json.get('response', '')\n",
    "                except json.JSONDecodeError:\n",
    "                    continue\n",
    "\n",
    "        return output.strip()\n",
    "\n",
    "    # You can add more methods for other API endpoints if needed.\n",
    "\n",
    "# Example usage\n",
    "if __name__ == \"__main__\":\n",
    "    client = OllamaClient()\n",
    "    model = \"gemma2\"\n",
    "    prompt = \"Summarize the impacts of climate change on polar bears.\"\n",
    "    summary = client.generate(model, prompt)\n",
    "    print(summary)\n"
   ]
  },
  {
   "cell_type": "code",
   "execution_count": null,
   "id": "934e72b1",
   "metadata": {},
   "outputs": [],
   "source": []
  }
 ],
 "metadata": {
  "kernelspec": {
   "display_name": "Python 3 (ipykernel)",
   "language": "python",
   "name": "python3"
  },
  "language_info": {
   "codemirror_mode": {
    "name": "ipython",
    "version": 3
   },
   "file_extension": ".py",
   "mimetype": "text/x-python",
   "name": "python",
   "nbconvert_exporter": "python",
   "pygments_lexer": "ipython3",
   "version": "3.12.3"
  }
 },
 "nbformat": 4,
 "nbformat_minor": 5
}
